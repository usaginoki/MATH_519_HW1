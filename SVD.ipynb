{
 "cells": [
  {
   "cell_type": "code",
   "execution_count": 1,
   "metadata": {},
   "outputs": [],
   "source": [
    "import numpy as np\n",
    "import sympy as sp\n",
    "from sympy.abc import z, t, k\n",
    "from scipy.linalg import null_space\n",
    "import scipy as sc"
   ]
  },
  {
   "cell_type": "code",
   "execution_count": 55,
   "metadata": {},
   "outputs": [],
   "source": [
    "x = [1.0, 1.1, 1.3, 1.5, 1.9, 2.1]\n",
    "y = [1.84, 1.96, 2.21, 2.45, 2.94, 3.18]"
   ]
  },
  {
   "cell_type": "code",
   "execution_count": 72,
   "metadata": {},
   "outputs": [
    {
     "name": "stdout",
     "output_type": "stream",
     "text": [
      "design matrix A = \n",
      "[[1.   1.   1.  ]\n",
      " [1.   1.1  1.21]\n",
      " [1.   1.3  1.69]\n",
      " [1.   1.5  2.25]\n",
      " [1.   1.9  3.61]\n",
      " [1.   2.1  4.41]]\n",
      "A^T A = \n",
      "[[ 6.      8.9    14.17  ]\n",
      " [ 8.9    14.17   24.023 ]\n",
      " [14.17   24.023  42.8629]]\n",
      "A A^T = \n",
      "[[ 3.      3.31    3.99    4.75    6.51    7.51  ]\n",
      " [ 3.31    3.6741  4.4749  5.3725  7.4581  8.6461]\n",
      " [ 3.99    4.4749  5.5461  6.7525  9.5709 11.1829]\n",
      " [ 4.75    5.3725  6.7525  8.3125 11.9725 14.0725]\n",
      " [ 6.51    7.4581  9.5709 11.9725 17.6421 20.9101]\n",
      " [ 7.51    8.6461 11.1829 14.0725 20.9101 24.8581]]\n",
      "ATA - lambda*I = \n",
      "Matrix([[6.0 - l, 8.90000000000000, 14.1700000000000], [8.90000000000000, 14.17 - l, 24.0230000000000], [14.1700000000000, 24.0230000000000, 42.8629 - l]])\n",
      "det(ATA - lambda*I) = \n",
      "-l**3 + 63.0329*l**2 - 92.461264*l + 0.452759999999671\n",
      "Eigenvalues of A^T A = \n",
      "[61.5303253733230, 1.49766141814105, 0.00491320853597199]\n"
     ]
    }
   ],
   "source": [
    "#create design matrix for polynomial of degree 2\n",
    "A = np.array([[1, x[i], x[i]**2] for i in range(len(x))])\n",
    "print(\"design matrix A = \")\n",
    "print(A)\n",
    "\n",
    "#find A^T A\n",
    "ATA = A.T.dot(A)\n",
    "print(\"A^T A = \")\n",
    "print(ATA)\n",
    "\n",
    "#find A A^T\n",
    "AAT = A.dot(A.T)\n",
    "print(\"A A^T = \")\n",
    "print(AAT)\n",
    "\n",
    "#find eigenvalues of A^T A\n",
    "M = sp.Matrix(ATA) - sp.eye(3)*sp.Symbol('l')\n",
    "print(\"ATA - lambda*I = \")\n",
    "print(M)\n",
    "\n",
    "#find determinant of M\n",
    "print(\"det(ATA - lambda*I) = \")\n",
    "print(M.det())\n",
    "\n",
    "#find eigenvalues of A^T A\n",
    "l1 = sp.roots(M.det(), sp.Symbol('l'))\n",
    "l1 = list(l1.keys())[::-1]\n",
    "print(\"Eigenvalues of A^T A = \")\n",
    "print(l1)"
   ]
  },
  {
   "cell_type": "code",
   "execution_count": 57,
   "metadata": {},
   "outputs": [
    {
     "data": {
      "text/plain": [
       "array([[7.84412681, 0.        , 0.        ],\n",
       "       [0.        , 1.22378978, 0.        ],\n",
       "       [0.        , 0.        , 0.07009428],\n",
       "       [0.        , 0.        , 0.        ],\n",
       "       [0.        , 0.        , 0.        ],\n",
       "       [0.        , 0.        , 0.        ]])"
      ]
     },
     "execution_count": 57,
     "metadata": {},
     "output_type": "execute_result"
    }
   ],
   "source": [
    "#find singular values of A\n",
    "s = [sp.sqrt(l) for l in l1]\n",
    "#construct S\n",
    "S = np.zeros((6,3))\n",
    "S[:3,:3] = np.diag(s)\n",
    "S"
   ]
  },
  {
   "cell_type": "code",
   "execution_count": 73,
   "metadata": {},
   "outputs": [
    {
     "name": "stdout",
     "output_type": "stream",
     "text": [
      "V = \n",
      "[[-0.28829799 -0.76839176  0.57136536]\n",
      " [-0.47570216 -0.40292422 -0.78189483]\n",
      " [-0.83101848  0.49721845  0.24936338]]\n",
      "U = \n",
      "[[-0.20333922 -0.55082788  0.55402391  0.15794226  0.35442072  0.10469695]\n",
      " [-0.23165137 -0.49843044  0.18561763  0.02121437 -0.70682728 -0.3778303 ]\n",
      " [-0.29463216 -0.36925792 -0.33774238 -0.6958668   0.34335437  0.2285068 ]\n",
      " [-0.36608827 -0.20758188 -0.57649901  0.66950724  0.20739673  0.37054581]\n",
      " [-0.53442645  0.21328077 -0.20020211 -0.19980875 -0.41078521 -0.71234637]\n",
      " [-0.63130852  0.47246737  0.41485141  0.04701169  0.21244068  0.3864271 ]]\n"
     ]
    }
   ],
   "source": [
    "#find eigendecomposition of A^T A\n",
    "_, V = np.linalg.eig(ATA)\n",
    "print(\"V = \")\n",
    "print(V)\n",
    "\n",
    "#find eigendecomposition of A A^T\n",
    "_, U = np.linalg.eig(AAT)\n",
    "print(\"U = \")\n",
    "print(U)"
   ]
  },
  {
   "cell_type": "code",
   "execution_count": 59,
   "metadata": {},
   "outputs": [
    {
     "data": {
      "text/plain": [
       "array([[1.  , 1.  , 1.  ],\n",
       "       [1.  , 1.1 , 1.21],\n",
       "       [1.  , 1.3 , 1.69],\n",
       "       [1.  , 1.5 , 2.25],\n",
       "       [1.  , 1.9 , 3.61],\n",
       "       [1.  , 2.1 , 4.41]])"
      ]
     },
     "execution_count": 59,
     "metadata": {},
     "output_type": "execute_result"
    }
   ],
   "source": [
    "U@S@V.T"
   ]
  },
  {
   "cell_type": "code",
   "execution_count": 60,
   "metadata": {},
   "outputs": [
    {
     "name": "stdout",
     "output_type": "stream",
     "text": [
      "solution to the least squares problem: \n"
     ]
    },
    {
     "data": {
      "text/plain": [
       "array([ 0.59658071,  1.25329314, -0.01085343])"
      ]
     },
     "execution_count": 60,
     "metadata": {},
     "output_type": "execute_result"
    }
   ],
   "source": [
    "print(\"solution to the least squares problem: \")\n",
    "V@(np.linalg.inv(S.T@S))@S.T@U.T@y"
   ]
  },
  {
   "cell_type": "markdown",
   "metadata": {},
   "source": [
    "### Check if the solution is correct using inbuilt function"
   ]
  },
  {
   "cell_type": "code",
   "execution_count": 12,
   "metadata": {},
   "outputs": [
    {
     "name": "stdout",
     "output_type": "stream",
     "text": [
      "[[-0.20333922  0.55082788  0.55402391  0.03908622 -0.18753406 -0.55821372]\n",
      " [-0.23165137  0.49843044  0.18561763  0.18776204  0.51861952  0.59935803]\n",
      " [-0.29463216  0.36925792 -0.33774238 -0.71191692 -0.3399974   0.2008647 ]\n",
      " [-0.36608827  0.20758188 -0.57649901  0.63672975 -0.27515892 -0.09695788]\n",
      " [-0.53442645 -0.21328077 -0.20020211 -0.21630593  0.62380611 -0.43919982]\n",
      " [-0.63130852 -0.47246737  0.41485141  0.06464485 -0.33973525  0.29414869]]\n",
      "[7.84412681 1.22378978 0.07009428]\n",
      "[[-0.28829799 -0.47570216 -0.83101848]\n",
      " [ 0.76839176  0.40292422 -0.49721845]\n",
      " [ 0.57136536 -0.78189483  0.24936338]]\n"
     ]
    },
    {
     "data": {
      "text/plain": [
       "array([[7.84412681, 0.        , 0.        ],\n",
       "       [0.        , 1.22378978, 0.        ],\n",
       "       [0.        , 0.        , 0.07009428],\n",
       "       [0.        , 0.        , 0.        ],\n",
       "       [0.        , 0.        , 0.        ],\n",
       "       [0.        , 0.        , 0.        ]])"
      ]
     },
     "execution_count": 12,
     "metadata": {},
     "output_type": "execute_result"
    }
   ],
   "source": [
    "#find singular value decomposition of A\n",
    "U1, S0, V1 = np.linalg.svd(A)\n",
    "print(U1)\n",
    "print(S0)\n",
    "print(V1)\n",
    "\n",
    "#construct S1\n",
    "S1 = np.zeros((6,3))\n",
    "S1[:3,:3] = np.diag(S0)\n",
    "S1"
   ]
  },
  {
   "cell_type": "code",
   "execution_count": 13,
   "metadata": {},
   "outputs": [
    {
     "data": {
      "text/plain": [
       "array([[1.  , 1.  , 1.  ],\n",
       "       [1.  , 1.1 , 1.21],\n",
       "       [1.  , 1.3 , 1.69],\n",
       "       [1.  , 1.5 , 2.25],\n",
       "       [1.  , 1.9 , 3.61],\n",
       "       [1.  , 2.1 , 4.41]])"
      ]
     },
     "execution_count": 13,
     "metadata": {},
     "output_type": "execute_result"
    }
   ],
   "source": [
    "U1@S1@V1"
   ]
  },
  {
   "cell_type": "code",
   "execution_count": 15,
   "metadata": {},
   "outputs": [
    {
     "data": {
      "text/plain": [
       "array([ 0.59658071,  1.25329314, -0.01085343])"
      ]
     },
     "execution_count": 15,
     "metadata": {},
     "output_type": "execute_result"
    }
   ],
   "source": [
    "V1.T@(np.linalg.inv(S1.T@S1))@S1.T@U1.T@y"
   ]
  },
  {
   "cell_type": "markdown",
   "metadata": {},
   "source": [
    "## Find the least squares solution for polynomial of degree 3"
   ]
  },
  {
   "cell_type": "code",
   "execution_count": 61,
   "metadata": {},
   "outputs": [
    {
     "name": "stdout",
     "output_type": "stream",
     "text": [
      "design matrix B = \n",
      "[[1.    1.    1.    1.   ]\n",
      " [1.    1.1   1.21  1.331]\n",
      " [1.    1.3   1.69  2.197]\n",
      " [1.    1.5   2.25  3.375]\n",
      " [1.    1.9   3.61  6.859]\n",
      " [1.    2.1   4.41  9.261]]\n"
     ]
    }
   ],
   "source": [
    "B = np.array([[1, x[i], x[i]**2, x[i]**3] for i in range(len(x))])\n",
    "print(\"design matrix B = \")\n",
    "print(B)"
   ]
  },
  {
   "cell_type": "code",
   "execution_count": 75,
   "metadata": {},
   "outputs": [
    {
     "name": "stdout",
     "output_type": "stream",
     "text": [
      "U2 = \n",
      "[[-0.11608603 -0.51462363  0.5691128  -0.43786621 -0.38108192 -0.2466717 ]\n",
      " [-0.14361447 -0.50358556  0.2663253   0.18450951  0.53530599  0.57814448]\n",
      " [-0.21244104 -0.44812067 -0.23847487  0.48499575  0.18060039 -0.6552473 ]\n",
      " [-0.3019628  -0.33992294 -0.54961907  0.03858126 -0.57359113  0.40086711]\n",
      " [-0.55430303  0.07410078 -0.30634976 -0.63677614  0.41779247 -0.11564016]\n",
      " [-0.72272702  0.39964163  0.39035867  0.36336784 -0.1790258   0.03854757]]\n",
      "S2 = \n",
      "[1.45068078e+01 2.08490854e+00 1.98760092e-01 8.68328133e-03]\n",
      "V2 = \n",
      "[[-0.14139116 -0.24637274 -0.44920712 -0.84706669]\n",
      " [-0.63912175 -0.56643737 -0.2955474   0.42816332]\n",
      " [ 0.66086235 -0.17451522 -0.66784011  0.29460989]\n",
      " [-0.36714151  0.76680741 -0.51463997  0.11117195]]\n"
     ]
    }
   ],
   "source": [
    "# find SVD of B\n",
    "U2, S2, V2 = np.linalg.svd(B)\n",
    "\n",
    "print(\"U2 = \")\n",
    "print(U2)\n",
    "\n",
    "print(\"S2 = \")\n",
    "print(S2)\n",
    "\n",
    "print(\"V2 = \")\n",
    "print(V2)\n"
   ]
  },
  {
   "cell_type": "code",
   "execution_count": 67,
   "metadata": {},
   "outputs": [
    {
     "data": {
      "text/plain": [
       "array([[1.45068078e+01, 0.00000000e+00, 0.00000000e+00, 0.00000000e+00],\n",
       "       [0.00000000e+00, 2.08490854e+00, 0.00000000e+00, 0.00000000e+00],\n",
       "       [0.00000000e+00, 0.00000000e+00, 1.98760092e-01, 0.00000000e+00],\n",
       "       [0.00000000e+00, 0.00000000e+00, 0.00000000e+00, 8.68328133e-03],\n",
       "       [0.00000000e+00, 0.00000000e+00, 0.00000000e+00, 0.00000000e+00],\n",
       "       [0.00000000e+00, 0.00000000e+00, 0.00000000e+00, 0.00000000e+00]])"
      ]
     },
     "execution_count": 67,
     "metadata": {},
     "output_type": "execute_result"
    }
   ],
   "source": [
    "#construct S2\n",
    "S0 = np.zeros((6,4))\n",
    "S0[:4,:4] = np.diag(S2)\n",
    "S0"
   ]
  },
  {
   "cell_type": "code",
   "execution_count": 74,
   "metadata": {},
   "outputs": [
    {
     "data": {
      "text/plain": [
       "array([ 0.62901928,  1.1850098 ,  0.03533252, -0.01004723])"
      ]
     },
     "execution_count": 74,
     "metadata": {},
     "output_type": "execute_result"
    }
   ],
   "source": [
    "# find solution to the least squares problem\n",
    "w3 = V2.T@(np.linalg.inv(S0.T@S0))@S0.T@U2.T@y\n",
    "w3"
   ]
  },
  {
   "cell_type": "code",
   "execution_count": 71,
   "metadata": {},
   "outputs": [
    {
     "data": {
      "text/plain": [
       "0.004172206964212411"
      ]
     },
     "execution_count": 71,
     "metadata": {},
     "output_type": "execute_result"
    }
   ],
   "source": [
    "#find norm of the residual\n",
    "np.linalg.norm(B@w3 - y)"
   ]
  }
 ],
 "metadata": {
  "kernelspec": {
   "display_name": "Python 3",
   "language": "python",
   "name": "python3"
  },
  "language_info": {
   "codemirror_mode": {
    "name": "ipython",
    "version": 3
   },
   "file_extension": ".py",
   "mimetype": "text/x-python",
   "name": "python",
   "nbconvert_exporter": "python",
   "pygments_lexer": "ipython3",
   "version": "3.8.8"
  }
 },
 "nbformat": 4,
 "nbformat_minor": 2
}
